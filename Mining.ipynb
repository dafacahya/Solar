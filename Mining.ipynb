{
 "cells": [
  {
   "cell_type": "code",
   "execution_count": 1,
   "metadata": {},
   "outputs": [],
   "source": [
    "import ephem\n",
    "import pandas as pd \n",
    "import os\n",
    "from datetime import datetime, timedelta"
   ]
  },
  {
   "cell_type": "code",
   "execution_count": 2,
   "metadata": {},
   "outputs": [],
   "source": [
    "def get_solar_position(latitude, longitude, date):\n",
    "    observer = ephem.Observer()\n",
    "    observer.lat = str(latitude)\n",
    "    observer.long = str(longitude)\n",
    "    observer.date = date\n",
    "\n",
    "    sun = ephem.Sun(observer)\n",
    "\n",
    "    azimuth = sun.az * 180 / ephem.pi\n",
    "    altitude = sun.alt * 180 / ephem.pi\n",
    "\n",
    "    return azimuth, altitude"
   ]
  },
  {
   "cell_type": "code",
   "execution_count": 3,
   "metadata": {},
   "outputs": [],
   "source": [
    "latitude = -7.921179\n",
    "longitude = 112.599392"
   ]
  },
  {
   "cell_type": "code",
   "execution_count": 4,
   "metadata": {},
   "outputs": [],
   "source": [
    "start_date = datetime(2014, 1, 1)\n",
    "end_date = datetime(2017, 1, 1)\n",
    "\n",
    "time_interval = timedelta(minutes= 10 )"
   ]
  },
  {
   "cell_type": "code",
   "execution_count": 5,
   "metadata": {},
   "outputs": [],
   "source": [
    "data_list = []\n",
    "current_date = start_date\n",
    "\n",
    "while current_date <= end_date:\n",
    "    azimuth, altitude = get_solar_position(latitude, longitude, current_date)\n",
    "\n",
    "    data_list.append({\n",
    "        'Datetime' : current_date,\n",
    "        'Latitude': latitude,\n",
    "        'Longitude': longitude,\n",
    "        'Azimuth': azimuth,\n",
    "        'Altitude': altitude\n",
    "    })\n",
    "\n",
    "    current_date += time_interval"
   ]
  },
  {
   "cell_type": "code",
   "execution_count": 6,
   "metadata": {},
   "outputs": [
    {
     "data": {
      "text/html": [
       "<div>\n",
       "<style scoped>\n",
       "    .dataframe tbody tr th:only-of-type {\n",
       "        vertical-align: middle;\n",
       "    }\n",
       "\n",
       "    .dataframe tbody tr th {\n",
       "        vertical-align: top;\n",
       "    }\n",
       "\n",
       "    .dataframe thead th {\n",
       "        text-align: right;\n",
       "    }\n",
       "</style>\n",
       "<table border=\"1\" class=\"dataframe\">\n",
       "  <thead>\n",
       "    <tr style=\"text-align: right;\">\n",
       "      <th></th>\n",
       "      <th>Datetime</th>\n",
       "      <th>Latitude</th>\n",
       "      <th>Longitude</th>\n",
       "      <th>Azimuth</th>\n",
       "      <th>Altitude</th>\n",
       "    </tr>\n",
       "  </thead>\n",
       "  <tbody>\n",
       "    <tr>\n",
       "      <th>0</th>\n",
       "      <td>2014-01-01 00:00:00</td>\n",
       "      <td>-7.921179</td>\n",
       "      <td>112.599392</td>\n",
       "      <td>111.709854</td>\n",
       "      <td>23.114890</td>\n",
       "    </tr>\n",
       "    <tr>\n",
       "      <th>1</th>\n",
       "      <td>2014-01-01 00:10:00</td>\n",
       "      <td>-7.921179</td>\n",
       "      <td>112.599392</td>\n",
       "      <td>111.777528</td>\n",
       "      <td>25.410448</td>\n",
       "    </tr>\n",
       "    <tr>\n",
       "      <th>2</th>\n",
       "      <td>2014-01-01 00:20:00</td>\n",
       "      <td>-7.921179</td>\n",
       "      <td>112.599392</td>\n",
       "      <td>111.892098</td>\n",
       "      <td>27.705151</td>\n",
       "    </tr>\n",
       "    <tr>\n",
       "      <th>3</th>\n",
       "      <td>2014-01-01 00:30:00</td>\n",
       "      <td>-7.921179</td>\n",
       "      <td>112.599392</td>\n",
       "      <td>112.056814</td>\n",
       "      <td>29.998075</td>\n",
       "    </tr>\n",
       "    <tr>\n",
       "      <th>4</th>\n",
       "      <td>2014-01-01 00:40:00</td>\n",
       "      <td>-7.921179</td>\n",
       "      <td>112.599392</td>\n",
       "      <td>112.275592</td>\n",
       "      <td>32.288261</td>\n",
       "    </tr>\n",
       "    <tr>\n",
       "      <th>5</th>\n",
       "      <td>2014-01-01 00:50:00</td>\n",
       "      <td>-7.921179</td>\n",
       "      <td>112.599392</td>\n",
       "      <td>112.553137</td>\n",
       "      <td>34.574687</td>\n",
       "    </tr>\n",
       "    <tr>\n",
       "      <th>6</th>\n",
       "      <td>2014-01-01 01:00:00</td>\n",
       "      <td>-7.921179</td>\n",
       "      <td>112.599392</td>\n",
       "      <td>112.895083</td>\n",
       "      <td>36.856234</td>\n",
       "    </tr>\n",
       "    <tr>\n",
       "      <th>7</th>\n",
       "      <td>2014-01-01 01:10:00</td>\n",
       "      <td>-7.921179</td>\n",
       "      <td>112.599392</td>\n",
       "      <td>113.308173</td>\n",
       "      <td>39.131646</td>\n",
       "    </tr>\n",
       "    <tr>\n",
       "      <th>8</th>\n",
       "      <td>2014-01-01 01:20:00</td>\n",
       "      <td>-7.921179</td>\n",
       "      <td>112.599392</td>\n",
       "      <td>113.800493</td>\n",
       "      <td>41.399498</td>\n",
       "    </tr>\n",
       "    <tr>\n",
       "      <th>9</th>\n",
       "      <td>2014-01-01 01:30:00</td>\n",
       "      <td>-7.921179</td>\n",
       "      <td>112.599392</td>\n",
       "      <td>114.381729</td>\n",
       "      <td>43.658153</td>\n",
       "    </tr>\n",
       "  </tbody>\n",
       "</table>\n",
       "</div>"
      ],
      "text/plain": [
       "             Datetime  Latitude   Longitude     Azimuth   Altitude\n",
       "0 2014-01-01 00:00:00 -7.921179  112.599392  111.709854  23.114890\n",
       "1 2014-01-01 00:10:00 -7.921179  112.599392  111.777528  25.410448\n",
       "2 2014-01-01 00:20:00 -7.921179  112.599392  111.892098  27.705151\n",
       "3 2014-01-01 00:30:00 -7.921179  112.599392  112.056814  29.998075\n",
       "4 2014-01-01 00:40:00 -7.921179  112.599392  112.275592  32.288261\n",
       "5 2014-01-01 00:50:00 -7.921179  112.599392  112.553137  34.574687\n",
       "6 2014-01-01 01:00:00 -7.921179  112.599392  112.895083  36.856234\n",
       "7 2014-01-01 01:10:00 -7.921179  112.599392  113.308173  39.131646\n",
       "8 2014-01-01 01:20:00 -7.921179  112.599392  113.800493  41.399498\n",
       "9 2014-01-01 01:30:00 -7.921179  112.599392  114.381729  43.658153"
      ]
     },
     "execution_count": 6,
     "metadata": {},
     "output_type": "execute_result"
    }
   ],
   "source": [
    "df = pd.DataFrame(data_list)\n",
    "df.head(10)"
   ]
  },
  {
   "cell_type": "code",
   "execution_count": 7,
   "metadata": {},
   "outputs": [
    {
     "name": "stdout",
     "output_type": "stream",
     "text": [
      "Data save in : solar_data/solar_data_january_2014_to_january_2017.csv\n"
     ]
    }
   ],
   "source": [
    "base_directory = 'solar_data'\n",
    "csv_file_path = os.path.join(base_directory, f'solar_data_{start_date.strftime(\"%B\").lower()}_{start_date.year}_to_{end_date.strftime(\"%B\").lower()}_{end_date.year}.csv')\n",
    "df.to_csv(csv_file_path, index=False, sep=';')\n",
    "\n",
    "print(f\"Data save in : {csv_file_path}\")"
   ]
  }
 ],
 "metadata": {
  "kernelspec": {
   "display_name": "Python 3",
   "language": "python",
   "name": "python3"
  },
  "language_info": {
   "codemirror_mode": {
    "name": "ipython",
    "version": 3
   },
   "file_extension": ".py",
   "mimetype": "text/x-python",
   "name": "python",
   "nbconvert_exporter": "python",
   "pygments_lexer": "ipython3",
   "version": "3.10.12"
  }
 },
 "nbformat": 4,
 "nbformat_minor": 2
}
