{
 "cells": [
  {
   "cell_type": "code",
   "execution_count": 1,
   "metadata": {},
   "outputs": [
    {
     "name": "stderr",
     "output_type": "stream",
     "text": [
      "2024-03-10 18:48:53.264345: E external/local_xla/xla/stream_executor/cuda/cuda_dnn.cc:9261] Unable to register cuDNN factory: Attempting to register factory for plugin cuDNN when one has already been registered\n",
      "2024-03-10 18:48:53.264474: E external/local_xla/xla/stream_executor/cuda/cuda_fft.cc:607] Unable to register cuFFT factory: Attempting to register factory for plugin cuFFT when one has already been registered\n",
      "2024-03-10 18:48:54.048841: E external/local_xla/xla/stream_executor/cuda/cuda_blas.cc:1515] Unable to register cuBLAS factory: Attempting to register factory for plugin cuBLAS when one has already been registered\n",
      "2024-03-10 18:48:55.482992: I tensorflow/core/platform/cpu_feature_guard.cc:182] This TensorFlow binary is optimized to use available CPU instructions in performance-critical operations.\n",
      "To enable the following instructions: AVX2 FMA, in other operations, rebuild TensorFlow with the appropriate compiler flags.\n",
      "2024-03-10 18:49:00.880841: W tensorflow/compiler/tf2tensorrt/utils/py_utils.cc:38] TF-TRT Warning: Could not find TensorRT\n"
     ]
    }
   ],
   "source": [
    "import pandas as pd \n",
    "import numpy as np \n",
    "import tensorflow as tf\n",
    "import matplotlib.pyplot as plt\n",
    "from tensorflow.keras.models import Sequential\n",
    "from tensorflow.keras.layers import LSTM, Dense\n",
    "from tensorflow.keras.optimizers import Adam \n",
    "from sklearn.model_selection import train_test_split\n",
    "from sklearn.metrics import mean_squared_error, r2_score\n",
    "from sklearn.preprocessing import MinMaxScaler"
   ]
  },
  {
   "cell_type": "code",
   "execution_count": 2,
   "metadata": {},
   "outputs": [],
   "source": [
    "def load_dataset(csv_path):\n",
    "    df = pd.read_csv(csv_path, sep= ';')\n",
    "    required_columns = ['Azimuth', 'Altitude', 'Timestamp']\n",
    "\n",
    "    if not all (col in df.columns for col in required_columns):\n",
    "        raise ValueError(\"Required columns are not present in the DataFrame.\")\n",
    "    \n",
    "    X = df[['Timestamp','Azimuth','Altitude']].values\n",
    "    y = df[['Azimuth','Altitude']].values\n",
    "\n",
    "    return X, y, df"
   ]
  },
  {
   "cell_type": "code",
   "execution_count": 3,
   "metadata": {},
   "outputs": [],
   "source": [
    "csv_path = 'cleaned/cleaned_data_2021.csv'\n",
    "X, y, df = load_dataset(csv_path)"
   ]
  },
  {
   "cell_type": "code",
   "execution_count": 4,
   "metadata": {},
   "outputs": [],
   "source": [
    "X_train, X_test, y_train, y_test = train_test_split(X, y, test_size=0.2 , random_state= 42)"
   ]
  },
  {
   "cell_type": "code",
   "execution_count": 5,
   "metadata": {},
   "outputs": [],
   "source": [
    "scaler_X = MinMaxScaler()\n",
    "scaler_y = MinMaxScaler()\n",
    "\n",
    "X_train_scaled = scaler_X.fit_transform(X_train)\n",
    "y_train_scaled = scaler_y.fit_transform(y_train)\n",
    "X_test_scaled = scaler_X.transform(X_test)\n",
    "y_test_scaled = scaler_y.transform(y_test)"
   ]
  },
  {
   "cell_type": "code",
   "execution_count": 6,
   "metadata": {},
   "outputs": [],
   "source": [
    "timesteps = 1\n",
    "X_train_reshaped = X_train_scaled.reshape((X_train_scaled.shape[0], timesteps, X_train_scaled.shape[1]))\n",
    "X_test_reshaped = X_test_scaled.reshape((X_test_scaled.shape[0], timesteps, X_test_scaled.shape[1]))"
   ]
  },
  {
   "cell_type": "code",
   "execution_count": 7,
   "metadata": {},
   "outputs": [
    {
     "name": "stderr",
     "output_type": "stream",
     "text": [
      "2024-03-10 18:49:14.615369: I external/local_xla/xla/stream_executor/cuda/cuda_executor.cc:887] could not open file to read NUMA node: /sys/bus/pci/devices/0000:01:00.0/numa_node\n",
      "Your kernel may have been built without NUMA support.\n",
      "2024-03-10 18:49:17.254914: I external/local_xla/xla/stream_executor/cuda/cuda_executor.cc:887] could not open file to read NUMA node: /sys/bus/pci/devices/0000:01:00.0/numa_node\n",
      "Your kernel may have been built without NUMA support.\n",
      "2024-03-10 18:49:17.254984: I external/local_xla/xla/stream_executor/cuda/cuda_executor.cc:887] could not open file to read NUMA node: /sys/bus/pci/devices/0000:01:00.0/numa_node\n",
      "Your kernel may have been built without NUMA support.\n",
      "2024-03-10 18:49:17.260986: I external/local_xla/xla/stream_executor/cuda/cuda_executor.cc:887] could not open file to read NUMA node: /sys/bus/pci/devices/0000:01:00.0/numa_node\n",
      "Your kernel may have been built without NUMA support.\n",
      "2024-03-10 18:49:17.261068: I external/local_xla/xla/stream_executor/cuda/cuda_executor.cc:887] could not open file to read NUMA node: /sys/bus/pci/devices/0000:01:00.0/numa_node\n",
      "Your kernel may have been built without NUMA support.\n",
      "2024-03-10 18:49:17.261106: I external/local_xla/xla/stream_executor/cuda/cuda_executor.cc:887] could not open file to read NUMA node: /sys/bus/pci/devices/0000:01:00.0/numa_node\n",
      "Your kernel may have been built without NUMA support.\n",
      "2024-03-10 18:49:17.536521: I external/local_xla/xla/stream_executor/cuda/cuda_executor.cc:887] could not open file to read NUMA node: /sys/bus/pci/devices/0000:01:00.0/numa_node\n",
      "Your kernel may have been built without NUMA support.\n",
      "2024-03-10 18:49:17.536606: I external/local_xla/xla/stream_executor/cuda/cuda_executor.cc:887] could not open file to read NUMA node: /sys/bus/pci/devices/0000:01:00.0/numa_node\n",
      "Your kernel may have been built without NUMA support.\n",
      "2024-03-10 18:49:17.536615: I tensorflow/core/common_runtime/gpu/gpu_device.cc:2022] Could not identify NUMA node of platform GPU id 0, defaulting to 0.  Your kernel may not have been built with NUMA support.\n",
      "2024-03-10 18:49:17.536661: I external/local_xla/xla/stream_executor/cuda/cuda_executor.cc:887] could not open file to read NUMA node: /sys/bus/pci/devices/0000:01:00.0/numa_node\n",
      "Your kernel may have been built without NUMA support.\n",
      "2024-03-10 18:49:17.536679: I tensorflow/core/common_runtime/gpu/gpu_device.cc:1929] Created device /job:localhost/replica:0/task:0/device:GPU:0 with 4080 MB memory:  -> device: 0, name: NVIDIA GeForce GTX 1660 Ti with Max-Q Design, pci bus id: 0000:01:00.0, compute capability: 7.5\n"
     ]
    },
    {
     "name": "stdout",
     "output_type": "stream",
     "text": [
      "WARNING:tensorflow:Layer lstm will not use cuDNN kernels since it doesn't meet the criteria. It will use a generic GPU kernel as fallback when running on GPU.\n"
     ]
    },
    {
     "name": "stderr",
     "output_type": "stream",
     "text": [
      "2024-03-10 18:49:22.192560: I external/local_tsl/tsl/platform/default/subprocess.cc:304] Start cannot spawn child process: No such file or directory\n"
     ]
    },
    {
     "name": "stdout",
     "output_type": "stream",
     "text": [
      "WARNING:tensorflow:Layer lstm_1 will not use cuDNN kernels since it doesn't meet the criteria. It will use a generic GPU kernel as fallback when running on GPU.\n",
      "WARNING:tensorflow:Layer lstm_2 will not use cuDNN kernels since it doesn't meet the criteria. It will use a generic GPU kernel as fallback when running on GPU.\n",
      "WARNING:tensorflow:Layer lstm_3 will not use cuDNN kernels since it doesn't meet the criteria. It will use a generic GPU kernel as fallback when running on GPU.\n",
      "WARNING:tensorflow:Layer lstm_4 will not use cuDNN kernels since it doesn't meet the criteria. It will use a generic GPU kernel as fallback when running on GPU.\n",
      "WARNING:tensorflow:Layer lstm_5 will not use cuDNN kernels since it doesn't meet the criteria. It will use a generic GPU kernel as fallback when running on GPU.\n",
      "WARNING:tensorflow:Layer lstm_6 will not use cuDNN kernels since it doesn't meet the criteria. It will use a generic GPU kernel as fallback when running on GPU.\n",
      "WARNING:tensorflow:Layer lstm_7 will not use cuDNN kernels since it doesn't meet the criteria. It will use a generic GPU kernel as fallback when running on GPU.\n",
      "Epoch 1/500\n"
     ]
    },
    {
     "name": "stderr",
     "output_type": "stream",
     "text": [
      "2024-03-10 18:49:32.740623: I external/local_xla/xla/service/service.cc:168] XLA service 0x7fce7876a150 initialized for platform CUDA (this does not guarantee that XLA will be used). Devices:\n",
      "2024-03-10 18:49:32.740668: I external/local_xla/xla/service/service.cc:176]   StreamExecutor device (0): NVIDIA GeForce GTX 1660 Ti with Max-Q Design, Compute Capability 7.5\n",
      "2024-03-10 18:49:33.083535: I tensorflow/compiler/mlir/tensorflow/utils/dump_mlir_util.cc:269] disabling MLIR crash reproducer, set env var `MLIR_CRASH_REPRODUCER_DIRECTORY` to enable.\n",
      "2024-03-10 18:49:33.466941: I external/local_xla/xla/stream_executor/cuda/cuda_dnn.cc:454] Loaded cuDNN version 8904\n",
      "WARNING: All log messages before absl::InitializeLog() is called are written to STDERR\n",
      "I0000 00:00:1710071373.734118    1142 device_compiler.h:186] Compiled cluster using XLA!  This line is logged at most once for the lifetime of the process.\n"
     ]
    },
    {
     "name": "stdout",
     "output_type": "stream",
     "text": [
      "83/83 [==============================] - 18s 70ms/step - loss: 0.3155 - mae: 0.4947 - val_loss: 0.3095 - val_mae: 0.4881\n",
      "Epoch 2/500\n",
      "83/83 [==============================] - 4s 53ms/step - loss: 0.3033 - mae: 0.4822 - val_loss: 0.2970 - val_mae: 0.4752\n",
      "Epoch 3/500\n",
      "83/83 [==============================] - 4s 54ms/step - loss: 0.2904 - mae: 0.4688 - val_loss: 0.2836 - val_mae: 0.4611\n",
      "Epoch 4/500\n",
      "83/83 [==============================] - 5s 57ms/step - loss: 0.2758 - mae: 0.4532 - val_loss: 0.2661 - val_mae: 0.4423\n",
      "Epoch 5/500\n",
      "83/83 [==============================] - 5s 60ms/step - loss: 0.1532 - mae: 0.3096 - val_loss: 0.0555 - val_mae: 0.1905\n",
      "Epoch 6/500\n",
      "83/83 [==============================] - 5s 60ms/step - loss: 0.0456 - mae: 0.1735 - val_loss: 0.0397 - val_mae: 0.1639\n",
      "Epoch 7/500\n",
      "83/83 [==============================] - 5s 58ms/step - loss: 0.0374 - mae: 0.1605 - val_loss: 0.0371 - val_mae: 0.1595\n",
      "Epoch 8/500\n",
      "83/83 [==============================] - 5s 59ms/step - loss: 0.0366 - mae: 0.1591 - val_loss: 0.0369 - val_mae: 0.1591\n",
      "Epoch 9/500\n",
      "83/83 [==============================] - 5s 60ms/step - loss: 0.0364 - mae: 0.1583 - val_loss: 0.0366 - val_mae: 0.1579\n",
      "Epoch 10/500\n",
      "83/83 [==============================] - 5s 59ms/step - loss: 0.0361 - mae: 0.1573 - val_loss: 0.0364 - val_mae: 0.1570\n",
      "Epoch 11/500\n",
      "83/83 [==============================] - 5s 59ms/step - loss: 0.0359 - mae: 0.1564 - val_loss: 0.0362 - val_mae: 0.1560\n",
      "Epoch 12/500\n",
      "83/83 [==============================] - 5s 60ms/step - loss: 0.0357 - mae: 0.1556 - val_loss: 0.0361 - val_mae: 0.1553\n",
      "Epoch 13/500\n",
      "83/83 [==============================] - 5s 60ms/step - loss: 0.0356 - mae: 0.1549 - val_loss: 0.0360 - val_mae: 0.1548\n",
      "Epoch 14/500\n",
      "83/83 [==============================] - 5s 60ms/step - loss: 0.0355 - mae: 0.1544 - val_loss: 0.0359 - val_mae: 0.1542\n",
      "Epoch 15/500\n",
      "83/83 [==============================] - 5s 59ms/step - loss: 0.0354 - mae: 0.1539 - val_loss: 0.0358 - val_mae: 0.1538\n",
      "Epoch 16/500\n",
      "83/83 [==============================] - 5s 63ms/step - loss: 0.0354 - mae: 0.1536 - val_loss: 0.0358 - val_mae: 0.1534\n",
      "Epoch 17/500\n",
      "83/83 [==============================] - 5s 60ms/step - loss: 0.0353 - mae: 0.1531 - val_loss: 0.0357 - val_mae: 0.1531\n",
      "Epoch 18/500\n",
      "83/83 [==============================] - 5s 64ms/step - loss: 0.0353 - mae: 0.1529 - val_loss: 0.0357 - val_mae: 0.1528\n",
      "Epoch 19/500\n",
      "83/83 [==============================] - 5s 64ms/step - loss: 0.0353 - mae: 0.1525 - val_loss: 0.0357 - val_mae: 0.1526\n",
      "Epoch 20/500\n",
      "83/83 [==============================] - 5s 63ms/step - loss: 0.0352 - mae: 0.1524 - val_loss: 0.0356 - val_mae: 0.1525\n",
      "Epoch 21/500\n",
      "83/83 [==============================] - 5s 62ms/step - loss: 0.0352 - mae: 0.1521 - val_loss: 0.0357 - val_mae: 0.1521\n",
      "Epoch 22/500\n",
      "83/83 [==============================] - 5s 58ms/step - loss: 0.0352 - mae: 0.1518 - val_loss: 0.0356 - val_mae: 0.1519\n",
      "Epoch 23/500\n",
      "83/83 [==============================] - 5s 54ms/step - loss: 0.0352 - mae: 0.1516 - val_loss: 0.0356 - val_mae: 0.1517\n",
      "Epoch 24/500\n",
      "83/83 [==============================] - 4s 54ms/step - loss: 0.0351 - mae: 0.1514 - val_loss: 0.0356 - val_mae: 0.1515\n",
      "Epoch 25/500\n",
      "83/83 [==============================] - 5s 56ms/step - loss: 0.0351 - mae: 0.1512 - val_loss: 0.0355 - val_mae: 0.1513\n",
      "Epoch 26/500\n",
      "83/83 [==============================] - 5s 56ms/step - loss: 0.0351 - mae: 0.1510 - val_loss: 0.0355 - val_mae: 0.1511\n",
      "Epoch 27/500\n",
      "83/83 [==============================] - 5s 58ms/step - loss: 0.0351 - mae: 0.1509 - val_loss: 0.0355 - val_mae: 0.1509\n",
      "Epoch 28/500\n",
      "83/83 [==============================] - 5s 58ms/step - loss: 0.0350 - mae: 0.1506 - val_loss: 0.0355 - val_mae: 0.1509\n",
      "Epoch 29/500\n",
      "83/83 [==============================] - 5s 61ms/step - loss: 0.0350 - mae: 0.1504 - val_loss: 0.0355 - val_mae: 0.1505\n",
      "Epoch 30/500\n",
      "83/83 [==============================] - 5s 56ms/step - loss: 0.0350 - mae: 0.1502 - val_loss: 0.0354 - val_mae: 0.1504\n",
      "Epoch 31/500\n",
      "83/83 [==============================] - 5s 59ms/step - loss: 0.0349 - mae: 0.1499 - val_loss: 0.0353 - val_mae: 0.1500\n",
      "Epoch 32/500\n",
      "83/83 [==============================] - 4s 54ms/step - loss: 0.0348 - mae: 0.1494 - val_loss: 0.0353 - val_mae: 0.1492\n",
      "Epoch 33/500\n",
      "83/83 [==============================] - 4s 54ms/step - loss: 0.0347 - mae: 0.1487 - val_loss: 0.0350 - val_mae: 0.1482\n",
      "Epoch 34/500\n",
      "83/83 [==============================] - 4s 53ms/step - loss: 0.0330 - mae: 0.1429 - val_loss: 0.0260 - val_mae: 0.1214\n",
      "Epoch 35/500\n",
      "83/83 [==============================] - 4s 52ms/step - loss: 0.0091 - mae: 0.0688 - val_loss: 0.0035 - val_mae: 0.0447\n",
      "Epoch 36/500\n",
      "83/83 [==============================] - 4s 51ms/step - loss: 0.0021 - mae: 0.0326 - val_loss: 0.0010 - val_mae: 0.0224\n",
      "Epoch 37/500\n",
      "83/83 [==============================] - 4s 51ms/step - loss: 7.1546e-04 - mae: 0.0190 - val_loss: 4.7935e-04 - val_mae: 0.0157\n",
      "Epoch 38/500\n",
      "83/83 [==============================] - 4s 51ms/step - loss: 3.9118e-04 - mae: 0.0141 - val_loss: 3.2032e-04 - val_mae: 0.0130\n",
      "Epoch 39/500\n",
      "83/83 [==============================] - 5s 56ms/step - loss: 2.4614e-04 - mae: 0.0110 - val_loss: 1.9592e-04 - val_mae: 0.0096\n",
      "Epoch 40/500\n",
      "83/83 [==============================] - 4s 54ms/step - loss: 1.5905e-04 - mae: 0.0086 - val_loss: 1.2702e-04 - val_mae: 0.0076\n",
      "Epoch 41/500\n",
      "83/83 [==============================] - 5s 62ms/step - loss: 1.0958e-04 - mae: 0.0069 - val_loss: 9.5232e-05 - val_mae: 0.0065\n",
      "Epoch 42/500\n",
      "83/83 [==============================] - 6s 71ms/step - loss: 8.4173e-05 - mae: 0.0060 - val_loss: 7.2474e-05 - val_mae: 0.0056\n",
      "Epoch 43/500\n",
      "83/83 [==============================] - 6s 67ms/step - loss: 6.1454e-05 - mae: 0.0049 - val_loss: 5.2406e-05 - val_mae: 0.0045\n",
      "Epoch 44/500\n",
      "83/83 [==============================] - 5s 59ms/step - loss: 4.9830e-05 - mae: 0.0044 - val_loss: 5.3774e-05 - val_mae: 0.0049\n",
      "Epoch 45/500\n",
      "83/83 [==============================] - 5s 59ms/step - loss: 4.7901e-05 - mae: 0.0044 - val_loss: 3.6718e-05 - val_mae: 0.0035\n",
      "Epoch 46/500\n",
      "83/83 [==============================] - 5s 58ms/step - loss: 3.7777e-05 - mae: 0.0037 - val_loss: 3.2913e-05 - val_mae: 0.0033\n",
      "Epoch 47/500\n",
      "83/83 [==============================] - 4s 53ms/step - loss: 3.6582e-05 - mae: 0.0037 - val_loss: 3.0302e-05 - val_mae: 0.0032\n",
      "Epoch 48/500\n",
      "83/83 [==============================] - 4s 53ms/step - loss: 3.2721e-05 - mae: 0.0035 - val_loss: 2.5666e-05 - val_mae: 0.0028\n",
      "Epoch 49/500\n",
      "83/83 [==============================] - 5s 55ms/step - loss: 2.8669e-05 - mae: 0.0032 - val_loss: 2.3523e-05 - val_mae: 0.0026\n",
      "Epoch 50/500\n",
      "83/83 [==============================] - 4s 52ms/step - loss: 2.8409e-05 - mae: 0.0032 - val_loss: 2.3488e-05 - val_mae: 0.0029\n",
      "Epoch 51/500\n",
      "83/83 [==============================] - 4s 52ms/step - loss: 2.6637e-05 - mae: 0.0031 - val_loss: 2.0250e-05 - val_mae: 0.0024\n",
      "Epoch 52/500\n",
      "83/83 [==============================] - 4s 49ms/step - loss: 2.1521e-05 - mae: 0.0026 - val_loss: 1.8180e-05 - val_mae: 0.0023\n",
      "Epoch 53/500\n",
      "83/83 [==============================] - 4s 50ms/step - loss: 2.4249e-05 - mae: 0.0030 - val_loss: 2.1431e-05 - val_mae: 0.0028\n",
      "Epoch 54/500\n",
      "83/83 [==============================] - 4s 53ms/step - loss: 2.4239e-05 - mae: 0.0029 - val_loss: 1.5915e-05 - val_mae: 0.0020\n",
      "Epoch 55/500\n",
      "83/83 [==============================] - 5s 58ms/step - loss: 2.3090e-05 - mae: 0.0029 - val_loss: 2.1999e-05 - val_mae: 0.0031\n",
      "Epoch 56/500\n",
      "83/83 [==============================] - 4s 54ms/step - loss: 1.8097e-05 - mae: 0.0024 - val_loss: 1.4823e-05 - val_mae: 0.0020\n",
      "Epoch 57/500\n",
      "83/83 [==============================] - 4s 53ms/step - loss: 1.9562e-05 - mae: 0.0026 - val_loss: 1.4118e-05 - val_mae: 0.0020\n",
      "Epoch 58/500\n",
      "19/83 [=====>........................] - ETA: 3s - loss: 2.1417e-05 - mae: 0.0029"
     ]
    }
   ],
   "source": [
    "model = Sequential()\n",
    "model.add(LSTM(units=1024, activation='relu', input_shape=(timesteps, X_train_scaled.shape[1]), return_sequences=True))\n",
    "model.add(LSTM(units=512, activation='relu', return_sequences=True))\n",
    "model.add(LSTM(units=256, activation='relu', return_sequences=True))\n",
    "model.add(LSTM(units=128, activation='relu', return_sequences=True))\n",
    "model.add(LSTM(units=64, activation='relu', return_sequences=True))\n",
    "model.add(LSTM(units=32, activation='relu', return_sequences=True))\n",
    "model.add(LSTM(units=16, activation='relu', return_sequences=True))\n",
    "model.add(LSTM(units=8, activation='relu'))\n",
    "model.add(Dense(units=2))\n",
    "\n",
    "optimizer = Adam(learning_rate=0.0001)\n",
    "model.compile(optimizer=optimizer, loss='mse', metrics=['mae'])  \n",
    "\n",
    "history = model.fit(X_train_reshaped, y_train_scaled, epochs=500, batch_size=512, validation_data=(X_test_reshaped, y_test_scaled))"
   ]
  },
  {
   "cell_type": "code",
   "execution_count": null,
   "metadata": {},
   "outputs": [
    {
     "name": "stdout",
     "output_type": "stream",
     "text": [
      "3287/3287 [==============================] - 20s 6ms/step\n",
      "3287/3287 [==============================] - 24s 7ms/step - loss: 2.2517e-05 - mae: 0.0038\n"
     ]
    }
   ],
   "source": [
    "predicted_values_scaled = model.predict(X_test_reshaped)\n",
    "predicted_values = scaler_y.inverse_transform(predicted_values_scaled)\n",
    "mse = mean_squared_error(y_test_scaled, predicted_values_scaled)\n",
    "r2 = r2_score(y_test_scaled, predicted_values_scaled)\n",
    "\n",
    "accuracy = model.evaluate(X_test_reshaped, y_test_scaled)"
   ]
  },
  {
   "cell_type": "code",
   "execution_count": null,
   "metadata": {},
   "outputs": [],
   "source": [
    "#timestamps_test = X_test[:, 0]\n",
    "#df_results = pd.DataFrame({\n",
    "#    'Timestamp': timestamps_test,\n",
    "#    'Actual_Azimuth': y_test[:, 0],\n",
    "#   'Actual_Altitude': y_test[:, 1],\n",
    "#    'Predicted_Azimuth': predicted_values[:, 0],\n",
    "#    'Predicted_Altitude': predicted_values[:, 1]\n",
    "#})"
   ]
  },
  {
   "cell_type": "code",
   "execution_count": null,
   "metadata": {},
   "outputs": [],
   "source": [
    "#output_csv_path = 'azimuth_altitude_prediction_results.csv'\n",
    "#df_results.to_csv(output_csv_path, index=False)"
   ]
  },
  {
   "cell_type": "code",
   "execution_count": null,
   "metadata": {},
   "outputs": [
    {
     "name": "stdout",
     "output_type": "stream",
     "text": [
      "Mean Squared Error on Test Data: 2.2517023265190713e-05\n",
      "R-squared on Test Data: 0.9996852128883238\n",
      "Accuracy on Test Data: [2.2517018805956468e-05, 0.0037750808987766504]\n",
      "Results saved to: azimuth_altitude_prediction_results.csv\n"
     ]
    }
   ],
   "source": [
    "print(f\"Mean Squared Error on Test Data: {mse}\")\n",
    "print(f\"R-squared on Test Data: {r2}\")\n",
    "print(f\"Accuracy on Test Data: {accuracy}\")\n",
    "#print(f\"Results saved to: {output_csv_path}\")"
   ]
  },
  {
   "cell_type": "code",
   "execution_count": null,
   "metadata": {},
   "outputs": [],
   "source": [
    "#model.save('model_save')\n",
    "#model.save_weights('model_weights_1Years.h5')"
   ]
  }
 ],
 "metadata": {
  "kernelspec": {
   "display_name": "Python 3",
   "language": "python",
   "name": "python3"
  },
  "language_info": {
   "codemirror_mode": {
    "name": "ipython",
    "version": 3
   },
   "file_extension": ".py",
   "mimetype": "text/x-python",
   "name": "python",
   "nbconvert_exporter": "python",
   "pygments_lexer": "ipython3",
   "version": "3.10.12"
  }
 },
 "nbformat": 4,
 "nbformat_minor": 2
}
